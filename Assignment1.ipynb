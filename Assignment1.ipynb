{
  "nbformat": 4,
  "nbformat_minor": 0,
  "metadata": {
    "colab": {
      "provenance": []
    },
    "kernelspec": {
      "name": "python3",
      "display_name": "Python 3"
    },
    "language_info": {
      "name": "python"
    }
  },
  "cells": [
    {
      "cell_type": "code",
      "execution_count": null,
      "metadata": {
        "colab": {
          "base_uri": "https://localhost:8080/"
        },
        "id": "ZAPP5zl1GO_Y",
        "outputId": "9baeb161-e15f-4b9c-f4c4-3fc79f86d05b"
      },
      "outputs": [
        {
          "output_type": "stream",
          "name": "stdout",
          "text": [
            "Collecting diagrams\n",
            "  Downloading diagrams-0.23.4-py3-none-any.whl (24.6 MB)\n",
            "\u001b[2K     \u001b[90m━━━━━━━━━━━━━━━━━━━━━━━━━━━━━━━━━━━━━━━━\u001b[0m \u001b[32m24.6/24.6 MB\u001b[0m \u001b[31m20.7 MB/s\u001b[0m eta \u001b[36m0:00:00\u001b[0m\n",
            "\u001b[?25hRequirement already satisfied: graphviz<0.21.0,>=0.13.2 in /usr/local/lib/python3.10/dist-packages (from diagrams) (0.20.1)\n",
            "Requirement already satisfied: jinja2<4.0,>=2.10 in /usr/local/lib/python3.10/dist-packages (from diagrams) (3.1.3)\n",
            "Collecting typed-ast<2.0.0,>=1.5.4 (from diagrams)\n",
            "  Downloading typed_ast-1.5.5-cp310-cp310-manylinux_2_17_x86_64.manylinux2014_x86_64.whl (824 kB)\n",
            "\u001b[2K     \u001b[90m━━━━━━━━━━━━━━━━━━━━━━━━━━━━━━━━━━━━━━━━\u001b[0m \u001b[32m824.7/824.7 kB\u001b[0m \u001b[31m42.1 MB/s\u001b[0m eta \u001b[36m0:00:00\u001b[0m\n",
            "\u001b[?25hRequirement already satisfied: MarkupSafe>=2.0 in /usr/local/lib/python3.10/dist-packages (from jinja2<4.0,>=2.10->diagrams) (2.1.4)\n",
            "Installing collected packages: typed-ast, diagrams\n",
            "Successfully installed diagrams-0.23.4 typed-ast-1.5.5\n"
          ]
        }
      ],
      "source": [
        "#Install the required packages\n",
        "!pip install diagrams"
      ]
    },
    {
      "cell_type": "code",
      "source": [
        "#Import the required libraries from the package\n",
        "from diagrams import Diagram, Cluster\n",
        "from diagrams.custom import Custom\n",
        "from diagrams.aws.storage import S3\n"
      ],
      "metadata": {
        "id": "97FcxzUhIHD9"
      },
      "execution_count": null,
      "outputs": []
    },
    {
      "cell_type": "code",
      "source": [
        "#Initial Architecture\n",
        "\n",
        "#Creating a main diagram of the use case which consists of the further subcodes.\n",
        "with Diagram(\"Fumble – Your Personal Finance News Buddy \", show=True, filename=\"FUMBLE\") as diag:\n",
        "  #Creating a cluster of all the data sources which indicates a single source of data\n",
        "  with Cluster(\"Data Sources\"):\n",
        "    WSJ = Custom(\"Wall Street Journal\", \"WSJ.png\")\n",
        "    MarketWatch = Custom(\"MarketWatch\", \"marketwatch.png\")\n",
        "    CNBC = Custom(\"CNBC\", \"cnbc.png\")\n",
        "    AlphaVantage = Custom(\"AlphaVantage\", \"AlphaVantage.png\")\n",
        "\n",
        "  Mage = Custom(\"Mage\",\"Mage.png\")\n",
        "\n",
        "  db = S3(\"Store\")\n",
        "\n",
        "  ElasticSearch = Custom(\"ElasticSearch\",\"ElasticSearch.png\")\n",
        "\n",
        "  FastAPI = Custom(\"FastAPI\", \"Fast.png\")\n",
        "\n",
        "  Openai = Custom(\"Open AI\", \"OpenAI.png\")\n",
        "  Streamlit = Custom(\"Streamlit\", \"Streamlit.png\")\n",
        "  GoogleNews = Custom(\"Google News\", \"Google_News.png\")\n",
        "\n",
        "\n",
        "#Designing the workflow by following the direction based on the use case.\n",
        "  WSJ >> Mage\n",
        "  MarketWatch >> Mage\n",
        "  CNBC >> Mage\n",
        "  AlphaVantage >> Mage\n",
        "  Mage >> db\n",
        "  db >> ElasticSearch\n",
        "\n",
        "  ElasticSearch >> FastAPI\n",
        "  FastAPI >> ElasticSearch\n",
        "\n",
        "  FastAPI >> Streamlit\n",
        "  Streamlit >> FastAPI\n",
        "\n",
        "\n",
        "  FastAPI >>  Openai\n",
        "  Openai >> FastAPI\n",
        "\n",
        "  FastAPI >> GoogleNews\n",
        "  GoogleNews>>FastAPI\n",
        "\n",
        "#printing the finished diagram\n",
        "diag"
      ],
      "metadata": {
        "id": "cb8Crc4FIO9V"
      },
      "execution_count": null,
      "outputs": []
    },
    {
      "cell_type": "code",
      "source": [
        "#Data Pipeline Architecture\n",
        "#Creating a main diagram of the use case which consists of the further subcodes.\n",
        "with Diagram(\"Fumble – Your Personal Finance News Buddy \", show=True, filename=\"FUMBLE\") as diag2:\n",
        "  #Creating the cluster containing the data sources and Mage\n",
        "  with Cluster(\"Origin - Extract - Transform\"):\n",
        "\n",
        "    #Creating a cluster of all the data sources which indicates a single source of data\n",
        "    with Cluster(\"Data Sources\"):\n",
        "      WSJ = Custom(\"Wall Street Journal\", \"WSJ.png\")\n",
        "      MarketWatch = Custom(\"MarketWatch\", \"marketwatch.png\")\n",
        "      CNBC = Custom(\"CNBC\", \"cnbc.png\")\n",
        "      AlphaVantage = Custom(\"AlphaVantage\", \"AlphaVantage.png\")\n",
        "\n",
        "    Mage = Custom(\"Mage\",\"Mage.png\")\n",
        "\n",
        "  #Creating the cluster containing the S3 and Elastic Search\n",
        "  with Cluster(\"Load\"):\n",
        "    db = S3(\"Store\")\n",
        "\n",
        "    ElasticSearch = Custom(\"ElasticSearch\",\"ElasticSearch.png\")\n",
        "\n",
        "  #Creating the cluster containing the Destination resources and additional resources\n",
        "  with Cluster(\"Destination - Transform\"):\n",
        "\n",
        "    FastAPI = Custom(\"FastAPI\", \"Fast.png\")\n",
        "\n",
        "    Openai = Custom(\"Open AI\", \"OpenAI.png\")\n",
        "    Streamlit = Custom(\"Streamlit\", \"Streamlit.png\")\n",
        "    GoogleNews = Custom(\"Google News\", \"Google_News.png\")\n",
        "\n",
        "\n",
        "#Designing the workflow by following the direction based on the use case.\n",
        "  WSJ >> Mage\n",
        "  MarketWatch >> Mage\n",
        "  CNBC >> Mage\n",
        "  AlphaVantage >> Mage\n",
        "  Mage >> db\n",
        "  db >> ElasticSearch\n",
        "\n",
        "  ElasticSearch >> FastAPI\n",
        "  FastAPI >> ElasticSearch\n",
        "\n",
        "  FastAPI >> Streamlit\n",
        "  Streamlit >> FastAPI\n",
        "\n",
        "\n",
        "  FastAPI >>  Openai\n",
        "  Openai >> FastAPI\n",
        "\n",
        "  FastAPI >> GoogleNews\n",
        "  GoogleNews >> FastAPI\n",
        "\n",
        "#printing the finished diagram\n",
        "diag2"
      ],
      "metadata": {
        "id": "45oVbRBQes-k"
      },
      "execution_count": null,
      "outputs": []
    }
  ]
}